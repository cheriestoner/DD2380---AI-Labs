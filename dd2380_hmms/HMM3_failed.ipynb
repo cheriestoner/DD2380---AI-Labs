{
 "cells": [
  {
   "cell_type": "code",
   "execution_count": 1,
   "metadata": {},
   "outputs": [],
   "source": [
    "def zero_matrix(nrow, ncol):\n",
    "    M = []\n",
    "    while len(M) < nrow:\n",
    "        M.append([]) # create a new row\n",
    "        while len(M[-1]) < ncol:\n",
    "            M[-1].append(0.0)\n",
    "    return M"
   ]
  },
  {
   "cell_type": "code",
   "execution_count": 2,
   "metadata": {},
   "outputs": [],
   "source": [
    "def zero_array_3d(time, row, col):\n",
    "    M = zero_matrix(row, col)\n",
    "    M_3d = [M]\n",
    "    while len(M_3d) < time:\n",
    "        M_3d.append(M)\n",
    "    return M_3d"
   ]
  },
  {
   "cell_type": "code",
   "execution_count": 3,
   "metadata": {},
   "outputs": [],
   "source": [
    "# HMM2 - Decoding\n",
    "from math import log"
   ]
  },
  {
   "cell_type": "code",
   "execution_count": 4,
   "metadata": {},
   "outputs": [
    {
     "name": "stdout",
     "output_type": "stream",
     "text": [
      "[4.0, 4.0, 0.4, 0.2, 0.2, 0.2, 0.2, 0.4, 0.2, 0.2, 0.2, 0.2, 0.4, 0.2, 0.2, 0.2, 0.2, 0.4] <class 'list'>\n",
      "[4.0, 4.0, 0.4, 0.2, 0.2, 0.2, 0.2, 0.4, 0.2, 0.2, 0.2, 0.2, 0.4, 0.2, 0.2, 0.2, 0.2, 0.4]\n",
      "[1.0, 4.0, 0.241896, 0.266086, 0.249153, 0.242864]\n",
      "1000\n"
     ]
    }
   ],
   "source": [
    "with open('hmm4_01.in') as inp:\n",
    "    A_list = list(map(float, inp.readline().split()))\n",
    "    B_list = list(map(float, inp.readline().split()))\n",
    "    pi_list = list(map(float, inp.readline().split()))\n",
    "    obs_list = list(map(int, inp.readline().split()))\n",
    "    print(A_list, type(A_list))\n",
    "    print(B_list)\n",
    "    print(pi_list)\n",
    "    print(obs_list[0])"
   ]
  },
  {
   "cell_type": "code",
   "execution_count": 5,
   "metadata": {},
   "outputs": [
    {
     "name": "stdout",
     "output_type": "stream",
     "text": [
      "['4', '4', '0.545455', '0.454545', '0.0', '0.0', '0.0', '0.506173', '0.493827', '0.0', '0.0', '0.0', '0.504132', '0.495868', '0.478088', '0.0', '0.0', '0.521912']\n"
     ]
    }
   ],
   "source": [
    "with open('hmm4_01.ans') as ans:\n",
    "    ans_list = ans.readline().split()\n",
    "print(ans_list)"
   ]
  },
  {
   "cell_type": "code",
   "execution_count": 6,
   "metadata": {},
   "outputs": [
    {
     "name": "stdout",
     "output_type": "stream",
     "text": [
      "1000 <class 'int'>\n",
      "4\n"
     ]
    }
   ],
   "source": [
    "N = int(A_list[0])\n",
    "K = int(B_list[1])\n",
    "T = obs_list[0]\n",
    "print(T, type(T))\n",
    "print(K)"
   ]
  },
  {
   "cell_type": "code",
   "execution_count": 7,
   "metadata": {},
   "outputs": [],
   "source": [
    "# initial lambda\n",
    "\n",
    "A = zero_matrix(N, N)\n",
    "B = zero_matrix(N, K)\n",
    "pi = pi_list[2:]\n",
    "# pi = [pi_list[2: ]]\n",
    "\n",
    "obs = obs_list[1:]"
   ]
  },
  {
   "cell_type": "code",
   "execution_count": 8,
   "metadata": {},
   "outputs": [
    {
     "name": "stdout",
     "output_type": "stream",
     "text": [
      "4\n"
     ]
    }
   ],
   "source": [
    "print(len(pi))"
   ]
  },
  {
   "cell_type": "code",
   "execution_count": 9,
   "metadata": {},
   "outputs": [],
   "source": [
    "for i in range(N):\n",
    "    for j in range(N):\n",
    "        A[i][j] = A_list[2 + N*i + j]\n",
    "    for j in range(K):\n",
    "        B[i][j] = B_list[2 + K*i + j]"
   ]
  },
  {
   "cell_type": "code",
   "execution_count": 10,
   "metadata": {},
   "outputs": [
    {
     "name": "stdout",
     "output_type": "stream",
     "text": [
      "[[0.4, 0.2, 0.2, 0.2], [0.2, 0.4, 0.2, 0.2], [0.2, 0.2, 0.4, 0.2], [0.2, 0.2, 0.2, 0.4]]\n",
      "[[0.4, 0.2, 0.2, 0.2], [0.2, 0.4, 0.2, 0.2], [0.2, 0.2, 0.4, 0.2], [0.2, 0.2, 0.2, 0.4]]\n"
     ]
    }
   ],
   "source": [
    "print(B)\n",
    "print(A)"
   ]
  },
  {
   "cell_type": "code",
   "execution_count": 11,
   "metadata": {},
   "outputs": [],
   "source": [
    "# alpha-pass: ouput alphas as a T * N matrix, and coefficients c_t\n",
    "def alpha_pass_scaled(A, B, pi, obs):\n",
    "    # by log\n",
    "    T = len(obs)\n",
    "    N = len(A)\n",
    "    alphas = zero_matrix(T, N)\n",
    "    c = [0.0] * T\n",
    "    alpha_tilde = [pi[i] * B[i][obs[0]] for i in range(N)]\n",
    "    c[0] = 1.0 / sum(alpha_tilde)\n",
    "    alphas[0] = [c[0] * alpha for alpha in alpha_tilde]\n",
    "    for t in range(1, T):\n",
    "        alpha_tilde = [sum(alphas[t-1][j] * A[j][i] * B[i][obs[t]] for j in range(N)) for i in range(N)]\n",
    "        c[t] = 1.0 / sum(alpha_tilde)\n",
    "        alphas[t] = [c[t] * alpha for alpha in alpha_tilde]\n",
    "    return alphas, c"
   ]
  },
  {
   "cell_type": "code",
   "execution_count": 12,
   "metadata": {},
   "outputs": [
    {
     "name": "stdout",
     "output_type": "stream",
     "text": [
      "[0.43334919514301057, 0.18667402956642004, 0.18668889861131918, 0.19328787667925015]\n"
     ]
    }
   ],
   "source": [
    "alphas, c = alpha_pass_scaled(A, B, pi, obs)\n",
    "print(alphas[T-1])"
   ]
  },
  {
   "cell_type": "code",
   "execution_count": 13,
   "metadata": {},
   "outputs": [],
   "source": [
    "# beta-pass\n",
    "def beta_pass_scaled(A, B, obs, c):\n",
    "    T = len(obs)\n",
    "    N = len(A)\n",
    "    betas = zero_matrix(T, N)\n",
    "    betas[T-1] = [c[T-1]] * N\n",
    "    for t in range(T-2, -1, -1):\n",
    "        betas[t] = [sum(betas[t+1][j] * B[j][obs[t+1]] * A[i][j] for j in range(N)) * c[t] for i in range(N) ]\n",
    "    return betas"
   ]
  },
  {
   "cell_type": "code",
   "execution_count": 14,
   "metadata": {},
   "outputs": [
    {
     "name": "stdout",
     "output_type": "stream",
     "text": [
      "[3.916627012142473, 3.916627012142473, 3.916627012142473, 3.916627012142473]\n"
     ]
    }
   ],
   "source": [
    "betas = beta_pass_scaled(A, B, obs, c)\n",
    "print(betas[T-1])"
   ]
  },
  {
   "cell_type": "code",
   "execution_count": 38,
   "metadata": {},
   "outputs": [],
   "source": [
    "def gamma_func(A, B, pi, obs):\n",
    "    T = len(obs)\n",
    "    N = len(A)\n",
    "    alphas, c = alpha_pass_scaled(A, B, pi, obs)\n",
    "    betas = beta_pass_scaled(A, B, obs, c)\n",
    "    di_gammas = zero_array_3d(T-1, N, N)\n",
    "    # gammas = zero_matrix(T-1, N)\n",
    "    gammas = zero_matrix(T, N)\n",
    "    gammas[T-1] = [alphas[T-1][i] for i in range(N)]\n",
    "    for t in range(T-1):\n",
    "        for i in range(N):\n",
    "            gammas[t][i] = 0\n",
    "            for j in range(N):\n",
    "                di_gammas[t][i][j] = alphas[t][i] * A[i][j] * B[j][obs[t+1]] * betas[t+1][j] # / sum(alphas[T-1][k] for k in range(N))\n",
    "                gammas[t][i] += di_gammas[t][i][j]\n",
    "    return gammas, di_gammas, c"
   ]
  },
  {
   "cell_type": "code",
   "execution_count": 39,
   "metadata": {},
   "outputs": [],
   "source": [
    "gammas, di_gammas, c = gamma_func(A, B, pi, obs)\n",
    "# print(gammas[T-1])"
   ]
  },
  {
   "cell_type": "code",
   "execution_count": 40,
   "metadata": {},
   "outputs": [],
   "source": [
    "def baum_welch(A, B, pi, obs):\n",
    "    # given a starting guess\n",
    "    N = len(A)\n",
    "    K = len(B[0])\n",
    "    T = len(obs)\n",
    "    # Compute di-gamma and gamma functions\n",
    "    gammas, di_gammas, c = gamma_func(A, B, pi, obs)\n",
    "    new_A = zero_matrix(N, N)\n",
    "    new_B = zero_matrix(N, K)\n",
    "    new_pi = None\n",
    "    # re-estimate lambda\n",
    "    for i in range(N):\n",
    "        denom = 0\n",
    "        for t in range(T-1):\n",
    "            denom += gammas[t][i]\n",
    "        for j in range(N):\n",
    "            numr = 0\n",
    "            for t in range(T-1):\n",
    "                numr += di_gammas[t][i][j]\n",
    "            new_A[i][j] = numr / denom\n",
    "    for i in range(N):\n",
    "        denom = 0\n",
    "        for t in range(T):\n",
    "            denom += gammas[t][i]\n",
    "        for k in range(K):\n",
    "            numr = 0\n",
    "            for t in range(T):\n",
    "                numr += (obs[t] == k) * gammas[t][i]\n",
    "            new_B[i][k] = numr / denom\n",
    "    new_pi = gammas[0]\n",
    "    return new_A, new_B, new_pi, c"
   ]
  },
  {
   "cell_type": "code",
   "execution_count": 41,
   "metadata": {},
   "outputs": [],
   "source": [
    "def learning(A, B, pi, obs):\n",
    "    maxIters = 500\n",
    "    loss = 1e-3\n",
    "    oldLogProb = 0\n",
    "    for iters in range(maxIters):\n",
    "        A, B, pi, c = baum_welch(A, B, pi, obs)\n",
    "        # Compute log P(O|lambda)\n",
    "        logProb = -sum(log(ct) for ct in c)\n",
    "        if iters != 0 and (logProb <= oldLogProb or abs(logProb - oldLogProb) <= loss):\n",
    "            break\n",
    "        oldLogProb = logProb\n",
    "    return A, B"
   ]
  },
  {
   "cell_type": "code",
   "execution_count": 42,
   "metadata": {},
   "outputs": [
    {
     "name": "stdout",
     "output_type": "stream",
     "text": [
      "[[0.9995321044031753, 1.1309901000777751e-18, 1.9073918675513294e-11, 0.0003475666721322846], [1.864632742785834e-17, 8.439473481967727e-35, 7.116500438339258e-28, 1.2967751497006907e-20], [9.302746874884817e-10, 2.1052479600553888e-27, 7.100915981338373e-20, 6.469676679215751e-13], [3.808951066538222, 8.619805064706163e-18, 1.453712643388241e-10, 0.005297936667284928]]\n",
      "[[0.26396830573177826, 0.24301046427605777, 0.24201042121319294, 0.25101080877897264], [1.0, 2.590629336756601e-88, 1.2781746475938242e-88, 5.8097892495383994e-89], [1.0, 3.378312700770176e-52, 1.1691188672701373e-51, 3.0703304411182097e-52], [1.0, 3.3820547663903045e-23, 5.592961958875976e-23, 9.899762667432217e-23]]\n"
     ]
    }
   ],
   "source": [
    "A, B = learning(A, B, pi, obs)\n",
    "print(A)\n",
    "print(B)"
   ]
  },
  {
   "cell_type": "code",
   "execution_count": null,
   "metadata": {},
   "outputs": [],
   "source": []
  }
 ],
 "metadata": {
  "kernelspec": {
   "display_name": "Python 3",
   "language": "python",
   "name": "python3"
  },
  "language_info": {
   "codemirror_mode": {
    "name": "ipython",
    "version": 3
   },
   "file_extension": ".py",
   "mimetype": "text/x-python",
   "name": "python",
   "nbconvert_exporter": "python",
   "pygments_lexer": "ipython3",
   "version": "3.8.5"
  }
 },
 "nbformat": 4,
 "nbformat_minor": 4
}
