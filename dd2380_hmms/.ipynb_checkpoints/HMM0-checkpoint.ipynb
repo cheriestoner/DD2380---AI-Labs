{
 "cells": [
  {
   "cell_type": "code",
   "execution_count": 1,
   "metadata": {},
   "outputs": [],
   "source": [
    "def zero_matrix(nrow, ncol):\n",
    "    M = []\n",
    "    while len(M) < nrow:\n",
    "        M.append([]) # create a new row\n",
    "        while len(M[-1]) < ncol:\n",
    "            M[-1].append(0.0)\n",
    "    return M"
   ]
  },
  {
   "cell_type": "code",
   "execution_count": 2,
   "metadata": {},
   "outputs": [],
   "source": [
    "def identity_matrix(n):\n",
    "    IdM = zero_matrix(n, n)\n",
    "    for i in range(n):\n",
    "        IdM[i][i] = 1.0\n",
    "    return IdM"
   ]
  },
  {
   "cell_type": "code",
   "execution_count": 3,
   "metadata": {},
   "outputs": [],
   "source": [
    "def copy_matrix(M):\n",
    "    nrow = len(M)\n",
    "    ncol = len(M[0])\n",
    "    MC = zero_matrix(nrow, ncol)\n",
    "    for i in range(nrow):\n",
    "        for j in range(ncol):\n",
    "            MC[i][j] = M[i][j]\n",
    "    return MC"
   ]
  },
  {
   "cell_type": "code",
   "execution_count": 4,
   "metadata": {},
   "outputs": [],
   "source": [
    "def print_matrix(M, decimals=1):\n",
    "    \"\"\"\n",
    "    Print a matrix one row at a time\n",
    "        :param M: The matrix to be printed\n",
    "    \"\"\"\n",
    "    for row in M:\n",
    "        print([round(x,decimals)+0 for x in row])"
   ]
  },
  {
   "cell_type": "code",
   "execution_count": 5,
   "metadata": {},
   "outputs": [],
   "source": [
    "def transpose(M):\n",
    "    if type(M[0]) != list: # convert a 1D-array to 2D\n",
    "        M = [M]\n",
    "    nrow = len(M[0])\n",
    "    ncol = len(M)\n",
    "    MT = zero_matrix(nrow, ncol)\n",
    "    for i in range(nrow):\n",
    "        for j in range(ncol):\n",
    "            MT[i][j] = M[j][i]\n",
    "    return MT"
   ]
  },
  {
   "cell_type": "code",
   "execution_count": 6,
   "metadata": {},
   "outputs": [],
   "source": [
    "def matrix_addition(A, B):\n",
    "    Arow = len(A)\n",
    "    Acol = len(A[0])\n",
    "    Brow = len(B)\n",
    "    Bcol = len(B[0])\n",
    "    if Arow != Brow or Acol != Bcol:\n",
    "        print('Matrices not the same size')\n",
    "        return\n",
    "    C = zero_matrix(Arow, Acol)\n",
    "    for i in range(Arow):\n",
    "        for j in range(Acol):\n",
    "            C[i][j] = A[i][j] + B[i][j]\n",
    "    return C"
   ]
  },
  {
   "cell_type": "code",
   "execution_count": 7,
   "metadata": {},
   "outputs": [],
   "source": [
    "def matrix_subtraction(A, B):\n",
    "    Arow = len(A)\n",
    "    Acol = len(A[0])\n",
    "    Brow = len(B)\n",
    "    Bcol = len(B[0])\n",
    "    if Arow != Brow or Acol != Bcol:\n",
    "        print('Matrices not the same size')\n",
    "        return\n",
    "    C = zero_matrix(Arow, Acol)\n",
    "    for i in range(Arow):\n",
    "        for j in range(Acol):\n",
    "            C[i][j] = A[i][j] - B[i][j]\n",
    "    return C"
   ]
  },
  {
   "cell_type": "code",
   "execution_count": 8,
   "metadata": {},
   "outputs": [],
   "source": [
    "def matrix_multp(A, B):\n",
    "    Arow = len(A)\n",
    "    Acol = len(A[0])\n",
    "    Brow = len(B)\n",
    "    Bcol = len(B[0])\n",
    "    if Acol != Brow:\n",
    "        print('Not applicable')\n",
    "        return\n",
    "    C = zero_matrix(Arow, Bcol)\n",
    "    for i in range(Arow):\n",
    "        for j in range(Bcol):\n",
    "            cij = 0\n",
    "            for k in range(Acol):\n",
    "                cij += A[i][k] * B[k][j]\n",
    "            C[i][j] = cij\n",
    "    return C"
   ]
  },
  {
   "cell_type": "code",
   "execution_count": 9,
   "metadata": {},
   "outputs": [],
   "source": [
    "def matrix_product(list_matrices):\n",
    "    prod = list_matrices[0]\n",
    "    for matrix in list_matrices[1:]:\n",
    "        prod = matrix_multp(prod, matrix)\n",
    "    return prod"
   ]
  },
  {
   "cell_type": "code",
   "execution_count": 10,
   "metadata": {},
   "outputs": [],
   "source": [
    "# HMM0"
   ]
  },
  {
   "cell_type": "code",
   "execution_count": 11,
   "metadata": {},
   "outputs": [
    {
     "name": "stdout",
     "output_type": "stream",
     "text": [
      "[4.0, 4.0, 0.2, 0.5, 0.3, 0.0, 0.1, 0.4, 0.4, 0.1, 0.2, 0.0, 0.4, 0.4, 0.2, 0.3, 0.0, 0.5] <class 'list'>\n",
      "[4.0, 3.0, 1.0, 0.0, 0.0, 0.0, 1.0, 0.0, 0.0, 0.0, 1.0, 0.2, 0.6, 0.2]\n",
      "[1.0, 4.0, 0.0, 0.0, 0.0, 1.0]\n"
     ]
    }
   ],
   "source": [
    "with open('sample_00.in') as in0:\n",
    "    A_list = list(map(float, in0.readline().split()))\n",
    "    B_list = list(map(float, in0.readline().split()))\n",
    "    pi_list = list(map(float, in0.readline().split()))\n",
    "    print(A_list, type(A_list))\n",
    "    print(B_list)\n",
    "    print(pi_list)"
   ]
  },
  {
   "cell_type": "code",
   "execution_count": 12,
   "metadata": {},
   "outputs": [
    {
     "name": "stdout",
     "output_type": "stream",
     "text": [
      "['1', '3', '0.3', '0.6', '0.1']\n"
     ]
    }
   ],
   "source": [
    "with open('sample_00.ans') as ans0:\n",
    "    ans_list = ans0.readline().split()\n",
    "print(ans_list)"
   ]
  },
  {
   "cell_type": "code",
   "execution_count": 13,
   "metadata": {},
   "outputs": [
    {
     "name": "stdout",
     "output_type": "stream",
     "text": [
      "3\n"
     ]
    }
   ],
   "source": [
    "N = int(A_list[0])\n",
    "K = int(B_list[1])\n",
    "print(K)"
   ]
  },
  {
   "cell_type": "code",
   "execution_count": 14,
   "metadata": {},
   "outputs": [],
   "source": [
    "A = zero_matrix(N, N)\n",
    "B = zero_matrix(N, K)\n",
    "pi = [pi_list[2: N+2]]"
   ]
  },
  {
   "cell_type": "code",
   "execution_count": 15,
   "metadata": {},
   "outputs": [],
   "source": [
    "for i in range(N):\n",
    "    for j in range(N):\n",
    "        A[i][j] = A_list[2 + N*i + j]\n",
    "    for j in range(K):\n",
    "        B[i][j] = B_list[2 + K*i + j]"
   ]
  },
  {
   "cell_type": "code",
   "execution_count": 16,
   "metadata": {},
   "outputs": [
    {
     "name": "stdout",
     "output_type": "stream",
     "text": [
      "[[1.0, 0.0, 0.0], [0.0, 1.0, 0.0], [0.0, 0.0, 1.0], [0.2, 0.6, 0.2]]\n",
      "[[0.2, 0.5, 0.3, 0.0], [0.1, 0.4, 0.4, 0.1], [0.2, 0.0, 0.4, 0.4], [0.2, 0.3, 0.0, 0.5]]\n"
     ]
    }
   ],
   "source": [
    "print(B)\n",
    "print(A)"
   ]
  },
  {
   "cell_type": "code",
   "execution_count": 17,
   "metadata": {},
   "outputs": [
    {
     "name": "stdout",
     "output_type": "stream",
     "text": [
      "[[0.30000000000000004, 0.6, 0.1]]\n"
     ]
    }
   ],
   "source": [
    "p_o2 = matrix_product([pi, A, B])\n",
    "print(p_o2)"
   ]
  },
  {
   "cell_type": "code",
   "execution_count": 18,
   "metadata": {},
   "outputs": [
    {
     "name": "stdout",
     "output_type": "stream",
     "text": [
      "[1, 3, 0.30000000000000004, 0.6, 0.1]\n"
     ]
    }
   ],
   "source": [
    "out0 = [1, K]\n",
    "for i in range(K):\n",
    "    out0.append(p_o2[0][i])\n",
    "    # out0.append(round(p_o2[0][i], 1)) # --> wrong answer... 1 3 0.3 0.6 0.1\n",
    "print(out0)"
   ]
  },
  {
   "cell_type": "code",
   "execution_count": 19,
   "metadata": {},
   "outputs": [
    {
     "name": "stdout",
     "output_type": "stream",
     "text": [
      "1 3 0.30000000000000004 0.6 0.1\n"
     ]
    }
   ],
   "source": [
    "out0_str = \" \".join(map(str, out0)) # convert to string\n",
    "print(out0_str)"
   ]
  }
 ],
 "metadata": {
  "kernelspec": {
   "display_name": "Python 3",
   "language": "python",
   "name": "python3"
  },
  "language_info": {
   "codemirror_mode": {
    "name": "ipython",
    "version": 3
   },
   "file_extension": ".py",
   "mimetype": "text/x-python",
   "name": "python",
   "nbconvert_exporter": "python",
   "pygments_lexer": "ipython3",
   "version": "3.8.5"
  }
 },
 "nbformat": 4,
 "nbformat_minor": 4
}
