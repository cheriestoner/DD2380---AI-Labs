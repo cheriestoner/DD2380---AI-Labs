{
 "cells": [
  {
   "cell_type": "code",
   "execution_count": 1,
   "metadata": {},
   "outputs": [],
   "source": [
    "def zero_matrix(nrow, ncol):\n",
    "    M = []\n",
    "    while len(M) < nrow:\n",
    "        M.append([]) # create a new row\n",
    "        while len(M[-1]) < ncol:\n",
    "            M[-1].append(0.0)\n",
    "    return M"
   ]
  },
  {
   "cell_type": "code",
   "execution_count": 2,
   "metadata": {},
   "outputs": [],
   "source": [
    "def zero_array_3d(time, row, col):\n",
    "    M = zero_matrix(row, col)\n",
    "    M_3d = [M]\n",
    "    while len(M_3d) < time:\n",
    "        M_3d.append(M)\n",
    "    return M_3d"
   ]
  },
  {
   "cell_type": "code",
   "execution_count": 3,
   "metadata": {},
   "outputs": [],
   "source": [
    "def repr_mat(A):\n",
    "    return '{} {} {}'.format(len(A), len(A[0]), ' '.join(' '.join(str(v) for v in l) for l in A))"
   ]
  },
  {
   "cell_type": "code",
   "execution_count": 4,
   "metadata": {},
   "outputs": [],
   "source": [
    "# HMM2 - Decoding\n",
    "from math import log, inf"
   ]
  },
  {
   "cell_type": "code",
   "execution_count": 5,
   "metadata": {},
   "outputs": [],
   "source": [
    "with open('hmm4_01.in') as inp:\n",
    "    A_list = list(map(float, inp.readline().split()))\n",
    "    B_list = list(map(float, inp.readline().split()))\n",
    "    pi_list = list(map(float, inp.readline().split()))\n",
    "    obs_list = list(map(int, inp.readline().split()))"
   ]
  },
  {
   "cell_type": "code",
   "execution_count": 6,
   "metadata": {},
   "outputs": [
    {
     "ename": "IndexError",
     "evalue": "list index out of range",
     "output_type": "error",
     "traceback": [
      "\u001b[1;31m---------------------------------------------------------------------------\u001b[0m",
      "\u001b[1;31mIndexError\u001b[0m                                Traceback (most recent call last)",
      "\u001b[1;32m<ipython-input-6-bfc2b2eaf04a>\u001b[0m in \u001b[0;36m<module>\u001b[1;34m\u001b[0m\n\u001b[0;32m      1\u001b[0m \u001b[0mN\u001b[0m \u001b[1;33m=\u001b[0m \u001b[0mint\u001b[0m\u001b[1;33m(\u001b[0m\u001b[0mA_list\u001b[0m\u001b[1;33m[\u001b[0m\u001b[1;36m0\u001b[0m\u001b[1;33m]\u001b[0m\u001b[1;33m)\u001b[0m\u001b[1;33m\u001b[0m\u001b[1;33m\u001b[0m\u001b[0m\n\u001b[1;32m----> 2\u001b[1;33m \u001b[0mK\u001b[0m \u001b[1;33m=\u001b[0m \u001b[0mint\u001b[0m\u001b[1;33m(\u001b[0m\u001b[0mB_list\u001b[0m\u001b[1;33m[\u001b[0m\u001b[1;36m1\u001b[0m\u001b[1;33m]\u001b[0m\u001b[1;33m)\u001b[0m\u001b[1;33m\u001b[0m\u001b[1;33m\u001b[0m\u001b[0m\n\u001b[0m\u001b[0;32m      3\u001b[0m \u001b[0mT\u001b[0m \u001b[1;33m=\u001b[0m \u001b[0mobs_list\u001b[0m\u001b[1;33m[\u001b[0m\u001b[1;36m0\u001b[0m\u001b[1;33m]\u001b[0m\u001b[1;33m\u001b[0m\u001b[1;33m\u001b[0m\u001b[0m\n",
      "\u001b[1;31mIndexError\u001b[0m: list index out of range"
     ]
    }
   ],
   "source": [
    "N = int(A_list[0])\n",
    "K = int(B_list[1])\n",
    "T = obs_list[0]"
   ]
  },
  {
   "cell_type": "code",
   "execution_count": null,
   "metadata": {},
   "outputs": [],
   "source": [
    "# initial lambda\n",
    "\n",
    "A = zero_matrix(N, N)\n",
    "B = zero_matrix(N, K)\n",
    "pi = pi_list[2:]\n",
    "# pi = [pi_list[2: ]] # matrix type\n",
    "\n",
    "obs = obs_list[1:]"
   ]
  },
  {
   "cell_type": "code",
   "execution_count": null,
   "metadata": {},
   "outputs": [],
   "source": [
    "for i in range(N):\n",
    "    for j in range(N):\n",
    "        A[i][j] = A_list[2 + N*i + j]\n",
    "    for j in range(K):\n",
    "        B[i][j] = B_list[2 + K*i + j]"
   ]
  },
  {
   "cell_type": "code",
   "execution_count": null,
   "metadata": {},
   "outputs": [],
   "source": [
    "# alpha-pass: ouput alphas as a T * N matrix, and coefficients c_t\n",
    "def alpha_pass_scaled(A, B, pi, obs):\n",
    "    # by log\n",
    "    T = len(obs)\n",
    "    N = len(A)\n",
    "    alphas = zero_matrix(T, N)\n",
    "    c = [0.0] * T\n",
    "    alpha_tilde = [pi[i] * B[i][obs[0]] for i in range(N)]\n",
    "    c[0] = 1.0 / sum(alpha_tilde)\n",
    "    alphas[0] = [c[0] * alpha for alpha in alpha_tilde]\n",
    "    for t in range(1, T):\n",
    "        alpha_tilde = [sum(alphas[t-1][j] * A[j][i] * B[i][obs[t]] for j in range(N)) for i in range(N)]\n",
    "        c[t] = 1.0 / sum(alpha_tilde)\n",
    "        alphas[t] = [c[t] * alpha for alpha in alpha_tilde]\n",
    "    return alphas, c"
   ]
  },
  {
   "cell_type": "code",
   "execution_count": null,
   "metadata": {},
   "outputs": [],
   "source": [
    "alphas, c = alpha_pass_scaled(A, B, pi, obs)"
   ]
  },
  {
   "cell_type": "code",
   "execution_count": null,
   "metadata": {},
   "outputs": [],
   "source": [
    "# beta-pass\n",
    "def beta_pass_scaled(A, B, obs, c):\n",
    "    T = len(obs)\n",
    "    N = len(A)\n",
    "    betas = zero_matrix(T, N)\n",
    "    betas[T-1] = [c[T-1]] * N\n",
    "    for t in range(T-2, -1, -1):\n",
    "        betas[t] = [sum(betas[t+1][j] * B[j][obs[t+1]] * A[i][j] for j in range(N)) * c[t] for i in range(N) ]\n",
    "    return betas"
   ]
  },
  {
   "cell_type": "code",
   "execution_count": null,
   "metadata": {},
   "outputs": [],
   "source": [
    "betas = beta_pass_scaled(A, B, obs, c)\n",
    "print(betas[T-1])"
   ]
  },
  {
   "cell_type": "code",
   "execution_count": null,
   "metadata": {},
   "outputs": [],
   "source": [
    "def learning_iter(A, B, pi, obs):\n",
    "    N = len(A)\n",
    "    K = len(B[0])\n",
    "    T = len(obs)\n",
    "    # calculate alpha, beta, di_gamma, gamma\n",
    "    alphas, c = alpha_pass_scaled(A, B, pi, obs)\n",
    "    betas = beta_pass_scaled(A, B, obs, c)\n",
    "    # di_gamma and gamma are computed at each time\n",
    "    # sum of di_gamma and gamma over time 0:T-1\n",
    "    sum_t_di_gamma = zero_matrix(N, N)\n",
    "    sum_t_gamma = [0.0] * N\n",
    "    sum_O_k_count_times_gamma = zero_matrix(N, K) # numerator of b_j(k)\n",
    "    new_pi = None\n",
    "    for t in range(T-1):\n",
    "        di_gamma_t = zero_matrix(N, N)\n",
    "        gamma_t = [0.0] * N\n",
    "        for i in range(N):\n",
    "            for j in range(N):\n",
    "                di_gamma_t[i][j] = betas[t+1][j] * A[i][j] * B[j][obs[t+1]] * alphas[t][i]\n",
    "                gamma_t[i] += di_gamma_t[i][j]\n",
    "                sum_t_di_gamma[i][j] += di_gamma_t[i][j]\n",
    "            sum_t_gamma[i] += gamma_t[i]\n",
    "            sum_O_k_count_times_gamma[i][obs[t]] += gamma_t[i]\n",
    "        if t == 0:\n",
    "            new_pi = gamma_t\n",
    "\n",
    "    new_A = zero_matrix(N, N)\n",
    "    new_B = zero_matrix(N, K)\n",
    "    for i in range(N):\n",
    "        for j in range(N):\n",
    "            new_A[i][j] = sum_t_di_gamma[i][j] / sum_t_gamma[i]\n",
    "        for k in range(K):\n",
    "            new_B[i][k] = sum_O_k_count_times_gamma[i][k] / sum_t_gamma[i]\n",
    "    return new_A, new_B, new_pi, c"
   ]
  },
  {
   "cell_type": "code",
   "execution_count": null,
   "metadata": {},
   "outputs": [],
   "source": [
    "def learning(A, B, pi, obs, MAX_ITER, EPS):\n",
    "        old_log_prob = -inf\n",
    "        for iteration in range(MAX_ITER):\n",
    "            A, B, pi, c = learning_iter(A, B, pi, obs)\n",
    "            log_prob = -sum(log(ci) for ci in c)\n",
    "            if log_prob <= old_log_prob or abs(log_prob - old_log_prob) <= EPS:\n",
    "                break\n",
    "            old_log_prob = log_prob\n",
    "        return A, B, pi"
   ]
  },
  {
   "cell_type": "code",
   "execution_count": null,
   "metadata": {},
   "outputs": [],
   "source": [
    "def main(A, B, pi, obs):\n",
    "    MAX_ITER = 500\n",
    "    EPS = 1e-4\n",
    "    A, B, pi = learning(A, B, pi, obs, MAX_ITER, EPS)\n",
    "    print(repr_mat(A))\n",
    "    print(repr_mat(B))\n",
    "    return"
   ]
  },
  {
   "cell_type": "code",
   "execution_count": null,
   "metadata": {},
   "outputs": [],
   "source": [
    "main(A, B, pi, obs)"
   ]
  },
  {
   "cell_type": "code",
   "execution_count": null,
   "metadata": {},
   "outputs": [],
   "source": []
  }
 ],
 "metadata": {
  "kernelspec": {
   "display_name": "Python 3",
   "language": "python",
   "name": "python3"
  },
  "language_info": {
   "codemirror_mode": {
    "name": "ipython",
    "version": 3
   },
   "file_extension": ".py",
   "mimetype": "text/x-python",
   "name": "python",
   "nbconvert_exporter": "python",
   "pygments_lexer": "ipython3",
   "version": "3.8.5"
  }
 },
 "nbformat": 4,
 "nbformat_minor": 4
}
