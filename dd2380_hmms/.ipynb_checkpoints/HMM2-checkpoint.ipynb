{
 "cells": [
  {
   "cell_type": "code",
   "execution_count": 1,
   "metadata": {},
   "outputs": [],
   "source": [
    "def zero_matrix(nrow, ncol):\n",
    "    M = []\n",
    "    while len(M) < nrow:\n",
    "        M.append([]) # create a new row\n",
    "        while len(M[-1]) < ncol:\n",
    "            M[-1].append(0.0)\n",
    "    return M"
   ]
  },
  {
   "cell_type": "code",
   "execution_count": 2,
   "metadata": {},
   "outputs": [],
   "source": [
    "def identity_matrix(n):\n",
    "    IdM = zero_matrix(n, n)\n",
    "    for i in range(n):\n",
    "        IdM[i][i] = 1.0\n",
    "    return IdM"
   ]
  },
  {
   "cell_type": "code",
   "execution_count": 3,
   "metadata": {},
   "outputs": [],
   "source": [
    "def copy_matrix(M):\n",
    "    nrow = len(M)\n",
    "    ncol = len(M[0])\n",
    "    MC = zero_matrix(nrow, ncol)\n",
    "    for i in range(nrow):\n",
    "        for j in range(ncol):\n",
    "            MC[i][j] = M[i][j]\n",
    "    return MC"
   ]
  },
  {
   "cell_type": "code",
   "execution_count": 4,
   "metadata": {},
   "outputs": [],
   "source": [
    "def print_matrix(M, decimals=1):\n",
    "    \"\"\"\n",
    "    Print a matrix one row at a time\n",
    "        :param M: The matrix to be printed\n",
    "    \"\"\"\n",
    "    for row in M:\n",
    "        print([round(x,decimals)+0 for x in row])"
   ]
  },
  {
   "cell_type": "code",
   "execution_count": 5,
   "metadata": {},
   "outputs": [],
   "source": [
    "def transpose(M):\n",
    "    if type(M[0]) != list: # convert a 1D-array to 2D\n",
    "        M = [M]\n",
    "    nrow = len(M[0])\n",
    "    ncol = len(M)\n",
    "    MT = zero_matrix(nrow, ncol)\n",
    "    for i in range(nrow):\n",
    "        for j in range(ncol):\n",
    "            MT[i][j] = M[j][i]\n",
    "    return MT"
   ]
  },
  {
   "cell_type": "code",
   "execution_count": 6,
   "metadata": {},
   "outputs": [],
   "source": [
    "def matrix_addition(A, B):\n",
    "    Arow = len(A)\n",
    "    Acol = len(A[0])\n",
    "    Brow = len(B)\n",
    "    Bcol = len(B[0])\n",
    "    if Arow != Brow or Acol != Bcol:\n",
    "        print('Matrices not the same size')\n",
    "        return\n",
    "    C = zero_matrix(Arow, Acol)\n",
    "    for i in range(Arow):\n",
    "        for j in range(Acol):\n",
    "            C[i][j] = A[i][j] + B[i][j]\n",
    "    return C"
   ]
  },
  {
   "cell_type": "code",
   "execution_count": 7,
   "metadata": {},
   "outputs": [],
   "source": [
    "def matrix_subtraction(A, B):\n",
    "    Arow = len(A)\n",
    "    Acol = len(A[0])\n",
    "    Brow = len(B)\n",
    "    Bcol = len(B[0])\n",
    "    if Arow != Brow or Acol != Bcol:\n",
    "        print('Matrices not the same size')\n",
    "        return\n",
    "    C = zero_matrix(Arow, Acol)\n",
    "    for i in range(Arow):\n",
    "        for j in range(Acol):\n",
    "            C[i][j] = A[i][j] - B[i][j]\n",
    "    return C"
   ]
  },
  {
   "cell_type": "code",
   "execution_count": 8,
   "metadata": {},
   "outputs": [],
   "source": [
    "def matrix_multp(A, B):\n",
    "    Arow = len(A)\n",
    "    Acol = len(A[0])\n",
    "    Brow = len(B)\n",
    "    Bcol = len(B[0])\n",
    "    if Acol != Brow:\n",
    "        print('Not applicable')\n",
    "        return\n",
    "    C = zero_matrix(Arow, Bcol)\n",
    "    for i in range(Arow):\n",
    "        for j in range(Bcol):\n",
    "            cij = 0\n",
    "            for k in range(Acol):\n",
    "                cij += A[i][k] * B[k][j]\n",
    "            C[i][j] = cij\n",
    "    return C"
   ]
  },
  {
   "cell_type": "code",
   "execution_count": 9,
   "metadata": {},
   "outputs": [],
   "source": [
    "def matrix_product(list_matrices):\n",
    "    prod = list_matrices[0]\n",
    "    for matrix in list_matrices[1:]:\n",
    "        prod = matrix_multp(prod, matrix)\n",
    "    return prod"
   ]
  },
  {
   "cell_type": "code",
   "execution_count": 10,
   "metadata": {},
   "outputs": [],
   "source": [
    "# HMM2 - Decoding"
   ]
  },
  {
   "cell_type": "code",
   "execution_count": 11,
   "metadata": {},
   "outputs": [
    {
     "name": "stdout",
     "output_type": "stream",
     "text": [
      "[4.0, 4.0, 0.0, 0.8, 0.1, 0.1, 0.1, 0.0, 0.8, 0.1, 0.1, 0.1, 0.0, 0.8, 0.8, 0.1, 0.1, 0.0] <class 'list'>\n",
      "[4.0, 4.0, 0.9, 0.1, 0.0, 0.0, 0.0, 0.9, 0.1, 0.0, 0.0, 0.0, 0.9, 0.1, 0.1, 0.0, 0.0, 0.9]\n",
      "[1.0, 4.0, 1.0, 0.0, 0.0, 0.0]\n",
      "[4, 1, 1, 2, 2]\n"
     ]
    }
   ],
   "source": [
    "with open('hmm3_01.in') as in2:\n",
    "    A_list = list(map(float, in2.readline().split()))\n",
    "    B_list = list(map(float, in2.readline().split()))\n",
    "    pi_list = list(map(float, in2.readline().split()))\n",
    "    obs_list = list(map(int, in2.readline().split()))\n",
    "    print(A_list, type(A_list))\n",
    "    print(B_list)\n",
    "    print(pi_list)\n",
    "    print(obs_list)"
   ]
  },
  {
   "cell_type": "code",
   "execution_count": 12,
   "metadata": {},
   "outputs": [
    {
     "name": "stdout",
     "output_type": "stream",
     "text": [
      "['0', '1', '2', '1']\n"
     ]
    }
   ],
   "source": [
    "with open('hmm3_01.ans') as ans:\n",
    "    ans_list = ans.readline().split()\n",
    "print(ans_list)"
   ]
  },
  {
   "cell_type": "code",
   "execution_count": 13,
   "metadata": {},
   "outputs": [
    {
     "name": "stdout",
     "output_type": "stream",
     "text": [
      "4 <class 'int'>\n",
      "4\n"
     ]
    }
   ],
   "source": [
    "N = int(A_list[0])\n",
    "K = int(B_list[1])\n",
    "T = obs_list[0]\n",
    "print(T, type(T))\n",
    "print(K)"
   ]
  },
  {
   "cell_type": "code",
   "execution_count": 14,
   "metadata": {},
   "outputs": [
    {
     "name": "stdout",
     "output_type": "stream",
     "text": [
      "[1, 1, 2, 2] <class 'int'>\n",
      "[[1.0, 0.0, 0.0, 0.0]]\n"
     ]
    }
   ],
   "source": [
    "A = zero_matrix(N, N)\n",
    "B = zero_matrix(N, K)\n",
    "pi = [pi_list[2: N+2]]\n",
    "obs = obs_list[1:]\n",
    "print(obs, type(obs[0]))\n",
    "print(pi)"
   ]
  },
  {
   "cell_type": "code",
   "execution_count": 15,
   "metadata": {},
   "outputs": [],
   "source": [
    "for i in range(N):\n",
    "    for j in range(N):\n",
    "        A[i][j] = A_list[2 + N*i + j]\n",
    "    for j in range(K):\n",
    "        B[i][j] = B_list[2 + K*i + j]"
   ]
  },
  {
   "cell_type": "code",
   "execution_count": 16,
   "metadata": {},
   "outputs": [
    {
     "name": "stdout",
     "output_type": "stream",
     "text": [
      "[[0.9, 0.1, 0.0, 0.0], [0.0, 0.9, 0.1, 0.0], [0.0, 0.0, 0.9, 0.1], [0.1, 0.0, 0.0, 0.9]]\n",
      "[[0.0, 0.8, 0.1, 0.1], [0.1, 0.0, 0.8, 0.1], [0.1, 0.1, 0.0, 0.8], [0.8, 0.1, 0.1, 0.0]]\n"
     ]
    }
   ],
   "source": [
    "print(B)\n",
    "print(A)"
   ]
  },
  {
   "cell_type": "code",
   "execution_count": 17,
   "metadata": {},
   "outputs": [],
   "source": [
    "def argmax(list):\n",
    "    max = -1\n",
    "    for i in range(len(list)):\n",
    "        if max < list[i]:\n",
    "            max = list[i]\n",
    "            idx = i\n",
    "    return idx"
   ]
  },
  {
   "cell_type": "code",
   "execution_count": 18,
   "metadata": {},
   "outputs": [
    {
     "data": {
      "text/plain": [
       "3"
      ]
     },
     "execution_count": 18,
     "metadata": {},
     "output_type": "execute_result"
    }
   ],
   "source": [
    "argmax([1,4,5,6])"
   ]
  },
  {
   "cell_type": "code",
   "execution_count": 37,
   "metadata": {},
   "outputs": [],
   "source": [
    "# Viterbi\n",
    "\n",
    "def viterbi_algo(A, B, pi, obs):\n",
    "    deltas = zero_matrix(len(obs), len(A))\n",
    "    delta_idx = zero_matrix(len(obs)-1, len(A)) # (T-1) * N since t has to be greater than 0 in indices\n",
    "    for t in range(len(obs)):\n",
    "        for i in range(len(A)):\n",
    "            if t==0:\n",
    "                deltas[t][i] = pi[0][i] * B[i][obs[t]]\n",
    "            else:\n",
    "                list = []\n",
    "                for j in range(len(A)):\n",
    "                    list.append(A[j][i] * B[i][obs[t]] * deltas[t-1][j])\n",
    "                deltas[t][i] = max(list)\n",
    "                delta_idx[t-1][i] = argmax(list)\n",
    "            #print(i, t, deltas[i][t], delta_idx[i][t])\n",
    "    return deltas, delta_idx"
   ]
  },
  {
   "cell_type": "code",
   "execution_count": 38,
   "metadata": {},
   "outputs": [
    {
     "name": "stdout",
     "output_type": "stream",
     "text": [
      "[[0.1, 0.0, 0.0, 0.0], [0.0, 0.07200000000000001, 0.0, 0.0], [0.0, 0.0, 0.05184000000000001, 0.0], [0.0, 0.0005184000000000002, 0.0, 0.0]]\n",
      "[[0, 0, 0, 0], [0, 0, 1, 0], [0, 2, 0, 0]]\n"
     ]
    }
   ],
   "source": [
    "deltas, delta_idx = viterbi_algo(A, B, pi, obs)\n",
    "print(deltas)\n",
    "print(delta_idx)"
   ]
  },
  {
   "cell_type": "code",
   "execution_count": 39,
   "metadata": {},
   "outputs": [],
   "source": [
    "X_T = argmax(deltas[T-1])"
   ]
  },
  {
   "cell_type": "code",
   "execution_count": 53,
   "metadata": {},
   "outputs": [],
   "source": [
    "X_Tm1 = delta_idx[T-2][X_T]"
   ]
  },
  {
   "cell_type": "code",
   "execution_count": 55,
   "metadata": {},
   "outputs": [
    {
     "name": "stdout",
     "output_type": "stream",
     "text": [
      "2\n"
     ]
    }
   ],
   "source": [
    "print(X_Tm1)"
   ]
  },
  {
   "cell_type": "code",
   "execution_count": 60,
   "metadata": {},
   "outputs": [
    {
     "name": "stdout",
     "output_type": "stream",
     "text": [
      "1\n"
     ]
    }
   ],
   "source": [
    "X_Tm2 = delta_idx[T-3][2]\n",
    "print(X_Tm2)"
   ]
  },
  {
   "cell_type": "code",
   "execution_count": 63,
   "metadata": {},
   "outputs": [
    {
     "name": "stdout",
     "output_type": "stream",
     "text": [
      "[0, 0, 0, 0]\n"
     ]
    }
   ],
   "source": [
    "X_seq = [0] * T\n",
    "print(X_seq)"
   ]
  },
  {
   "cell_type": "code",
   "execution_count": 72,
   "metadata": {},
   "outputs": [],
   "source": [
    "next_state = argmax(deltas[T-1])\n",
    "X_seq[T-1] = next_state"
   ]
  },
  {
   "cell_type": "code",
   "execution_count": 73,
   "metadata": {},
   "outputs": [
    {
     "name": "stdout",
     "output_type": "stream",
     "text": [
      "[0, 1, 2, 1]\n"
     ]
    }
   ],
   "source": [
    "for t in range(T-2, -1, -1):\n",
    "    X_seq[t] = delta_idx[t][next_state]\n",
    "    next_state = X_seq[t]\n",
    "print(X_seq)"
   ]
  },
  {
   "cell_type": "code",
   "execution_count": 74,
   "metadata": {},
   "outputs": [
    {
     "name": "stdout",
     "output_type": "stream",
     "text": [
      "0 1 2 1\n"
     ]
    }
   ],
   "source": [
    "print(\" \".join(map(str, X_seq)))"
   ]
  }
 ],
 "metadata": {
  "kernelspec": {
   "display_name": "Python 3",
   "language": "python",
   "name": "python3"
  },
  "language_info": {
   "codemirror_mode": {
    "name": "ipython",
    "version": 3
   },
   "file_extension": ".py",
   "mimetype": "text/x-python",
   "name": "python",
   "nbconvert_exporter": "python",
   "pygments_lexer": "ipython3",
   "version": "3.8.5"
  }
 },
 "nbformat": 4,
 "nbformat_minor": 4
}
