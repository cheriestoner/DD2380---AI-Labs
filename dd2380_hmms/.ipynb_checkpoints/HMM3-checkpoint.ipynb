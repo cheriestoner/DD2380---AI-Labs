{
 "cells": [
  {
   "cell_type": "code",
   "execution_count": 1,
   "metadata": {},
   "outputs": [],
   "source": [
    "def zero_matrix(nrow, ncol):\n",
    "    M = []\n",
    "    while len(M) < nrow:\n",
    "        M.append([]) # create a new row\n",
    "        while len(M[-1]) < ncol:\n",
    "            M[-1].append(0.0)\n",
    "    return M"
   ]
  },
  {
   "cell_type": "code",
   "execution_count": 2,
   "metadata": {},
   "outputs": [],
   "source": [
    "def zero_array_3d(time, row, col):\n",
    "    M = zero_matrix(row, col)\n",
    "    M_3d = [M]\n",
    "    while len(M_3d) < time:\n",
    "        M_3d.append(M)\n",
    "    return M_3d"
   ]
  },
  {
   "cell_type": "code",
   "execution_count": 3,
   "metadata": {},
   "outputs": [],
   "source": [
    "# HMM2 - Decoding\n",
    "from math import log"
   ]
  },
  {
   "cell_type": "code",
   "execution_count": 4,
   "metadata": {},
   "outputs": [
    {
     "name": "stdout",
     "output_type": "stream",
     "text": [
      "[4.0, 4.0, 0.4, 0.2, 0.2, 0.2, 0.2, 0.4, 0.2, 0.2, 0.2, 0.2, 0.4, 0.2, 0.2, 0.2, 0.2, 0.4] <class 'list'>\n",
      "[4.0, 4.0, 0.4, 0.2, 0.2, 0.2, 0.2, 0.4, 0.2, 0.2, 0.2, 0.2, 0.4, 0.2, 0.2, 0.2, 0.2, 0.4]\n",
      "[1.0, 4.0, 0.241896, 0.266086, 0.249153, 0.242864]\n",
      "1000\n"
     ]
    }
   ],
   "source": [
    "with open('hmm4_01.in') as inp:\n",
    "    A_list = list(map(float, inp.readline().split()))\n",
    "    B_list = list(map(float, inp.readline().split()))\n",
    "    pi_list = list(map(float, inp.readline().split()))\n",
    "    obs_list = list(map(int, inp.readline().split()))\n",
    "    print(A_list, type(A_list))\n",
    "    print(B_list)\n",
    "    print(pi_list)\n",
    "    print(obs_list[0])"
   ]
  },
  {
   "cell_type": "code",
   "execution_count": 5,
   "metadata": {},
   "outputs": [
    {
     "name": "stdout",
     "output_type": "stream",
     "text": [
      "['4', '4', '0.545455', '0.454545', '0.0', '0.0', '0.0', '0.506173', '0.493827', '0.0', '0.0', '0.0', '0.504132', '0.495868', '0.478088', '0.0', '0.0', '0.521912']\n"
     ]
    }
   ],
   "source": [
    "with open('hmm4_01.ans') as ans:\n",
    "    ans_list = ans.readline().split()\n",
    "print(ans_list)"
   ]
  },
  {
   "cell_type": "code",
   "execution_count": 6,
   "metadata": {},
   "outputs": [
    {
     "name": "stdout",
     "output_type": "stream",
     "text": [
      "1000 <class 'int'>\n",
      "4\n"
     ]
    }
   ],
   "source": [
    "N = int(A_list[0])\n",
    "K = int(B_list[1])\n",
    "T = obs_list[0]\n",
    "print(T, type(T))\n",
    "print(K)"
   ]
  },
  {
   "cell_type": "code",
   "execution_count": 21,
   "metadata": {},
   "outputs": [],
   "source": [
    "# initial lambda\n",
    "\n",
    "A = zero_matrix(N, N)\n",
    "B = zero_matrix(N, K)\n",
    "pi = pi_list[2:]\n",
    "# pi = [pi_list[2: ]]\n",
    "\n",
    "obs = obs_list[1:]"
   ]
  },
  {
   "cell_type": "code",
   "execution_count": 22,
   "metadata": {},
   "outputs": [
    {
     "name": "stdout",
     "output_type": "stream",
     "text": [
      "4\n"
     ]
    }
   ],
   "source": [
    "print(len(pi))"
   ]
  },
  {
   "cell_type": "code",
   "execution_count": 8,
   "metadata": {},
   "outputs": [],
   "source": [
    "for i in range(N):\n",
    "    for j in range(N):\n",
    "        A[i][j] = A_list[2 + N*i + j]\n",
    "    for j in range(K):\n",
    "        B[i][j] = B_list[2 + K*i + j]"
   ]
  },
  {
   "cell_type": "code",
   "execution_count": 9,
   "metadata": {},
   "outputs": [
    {
     "name": "stdout",
     "output_type": "stream",
     "text": [
      "[[0.4, 0.2, 0.2, 0.2], [0.2, 0.4, 0.2, 0.2], [0.2, 0.2, 0.4, 0.2], [0.2, 0.2, 0.2, 0.4]]\n",
      "[[0.4, 0.2, 0.2, 0.2], [0.2, 0.4, 0.2, 0.2], [0.2, 0.2, 0.4, 0.2], [0.2, 0.2, 0.2, 0.4]]\n"
     ]
    }
   ],
   "source": [
    "print(B)\n",
    "print(A)"
   ]
  },
  {
   "cell_type": "code",
   "execution_count": 10,
   "metadata": {},
   "outputs": [],
   "source": [
    "# alpha-pass: ouput alphas as a T * N matrix, and coefficients c_t\n",
    "def alpha_pass_scaled(A, B, pi, obs):\n",
    "    # by log\n",
    "    T = len(obs)\n",
    "    N = len(A)\n",
    "    alphas = zero_matrix(T, N)\n",
    "    c = [0.0] * T\n",
    "    alpha_tilde = [pi[i] * B[i][obs[0]] for i in range(N)]\n",
    "    c[0] = 1.0 / sum(alpha_tilde)\n",
    "    alphas[0] = [c[0] * alpha for alpha in alpha_tilde]\n",
    "    for t in range(1, T):\n",
    "        alpha_tilde = [sum(alphas[t-1][j] * A[j][i] * B[i][obs[t]] for j in range(N)) for i in range(N)]\n",
    "        c[t] = 1.0 / sum(alpha_tilde)\n",
    "        alphas[t] = [c[t] * alpha for alpha in alpha_tilde]\n",
    "    return alphas, c"
   ]
  },
  {
   "cell_type": "code",
   "execution_count": 11,
   "metadata": {},
   "outputs": [
    {
     "name": "stdout",
     "output_type": "stream",
     "text": [
      "[0.43334919514301057, 0.18667402956642004, 0.18668889861131918, 0.19328787667925015]\n"
     ]
    }
   ],
   "source": [
    "alphas, c = alpha_pass_scaled(A, B, pi, obs)\n",
    "print(alphas[T-1])"
   ]
  },
  {
   "cell_type": "code",
   "execution_count": 12,
   "metadata": {},
   "outputs": [],
   "source": [
    "# beta-pass\n",
    "def beta_pass_scaled(A, B, obs, c):\n",
    "    T = len(obs)\n",
    "    N = len(A)\n",
    "    betas = zero_matrix(T, N)\n",
    "    betas[T-1] = [c[T-1]] * N\n",
    "    for t in range(T-2, -1, -1):\n",
    "        betas[t] = [sum(betas[t+1][j] * B[j][obs[t+1]] * A[i][j] for j in range(N)) * c[t] for i in range(N) ]\n",
    "    return betas"
   ]
  },
  {
   "cell_type": "code",
   "execution_count": 13,
   "metadata": {},
   "outputs": [
    {
     "name": "stdout",
     "output_type": "stream",
     "text": [
      "[3.916627012142473, 3.916627012142473, 3.916627012142473, 3.916627012142473]\n"
     ]
    }
   ],
   "source": [
    "betas = beta_pass_scaled(A, B, obs, c)\n",
    "print(betas[T-1])"
   ]
  },
  {
   "cell_type": "code",
   "execution_count": null,
   "metadata": {},
   "outputs": [],
   "source": [
    "def learning_iter(A, B, pi, obs):\n",
    "    N = len(A)\n",
    "    K = len(B[0])\n",
    "    T = len(obs)\n",
    "    # calculate alpha, beta, di_gamma, gamma\n",
    "    alphas, c = alpha_pass_scaled(A, B, pi, obs)\n",
    "    betas = beta_pass_scaled(A, B, obs, c)\n",
    "    # di_gamma and gamma are computed at each time\n",
    "    # sum of di_gamma and gamma over time 0:T-1\n",
    "    sum_di_gamma = zero_matrix(N, N)\n",
    "    sum_gamma = [0.0] * N\n",
    "    sum_O_k_count_times_gamma = zero_matrix(N, K)\n",
    "    new_pi = None\n",
    "    for t in range(T-1):\n",
    "        di_gamma_t = zero_matrix(N, N)\n",
    "        gamma_t = [0.0] * N\n",
    "        O_t = obs[t]\n",
    "        O_t_plus_1 = obs[t+1]\n",
    "        for i in range(N):\n",
    "            for j in range(N):\n",
    "                di_gamma_t[i][j] = betas[t+1][j] * A[i][j] * B[j][O_t_plus_1] * alphas[t][i]\n",
    "                gamma_t[i] += di_gamma_t[i][j]\n",
    "                sum_di_gamma[i][j] += di_gamma_t[i][j]\n",
    "            sum_gamma[i] += gamma_t[i]\n",
    "            sum_O_k_count_times_gamma[i][O_t] += gamma_t[i]\n",
    "        if t == 0:\n",
    "            new_pi = gamma_t\n",
    "\n",
    "    new_A = create_zero_mat(self.N, self.N)\n",
    "    new_B = create_zero_mat(self.N, self.K)\n",
    "    for i in range(self.N):\n",
    "        for j in range(self.N):\n",
    "            new_A[i][j] = sum_di_gamma[i][j] / sum_gamma[i]\n",
    "        for k in range(self.K):\n",
    "            new_B[i][k] = sum_O_k_count_times_gamma[i][k] / sum_gamma[i]\n",
    "    return new_A, new_B, new_pi, c"
   ]
  },
  {
   "cell_type": "code",
   "execution_count": 14,
   "metadata": {},
   "outputs": [],
   "source": [
    "def gamma_func(A, B, pi, obs):\n",
    "    T = len(obs)\n",
    "    N = len(A)\n",
    "    alphas, c = alpha_pass_scaled(A, B, pi, obs)\n",
    "    betas = beta_pass_scaled(A, B, obs, c)\n",
    "    di_gammas = zero_array_3d(T-1, N, N)\n",
    "    gammas = zero_matrix(T, N)\n",
    "    for t in range(T-2, -1, -1):\n",
    "        for i in range(N):\n",
    "            gammas[t][i] = 0\n",
    "            for j in range(N):\n",
    "                di_gammas[t][i][j] = alphas[t][i] * A[i][j] * B[j][obs[t+1]] * betas[t+1][j] # / sum(alphas[T-1][k] for k in range(N))\n",
    "                gammas[t][i] += di_gammas[t][i][j]\n",
    "    gammas[T-1] = [alphas[T-1][i] for i in range(N)]\n",
    "    return gammas, di_gammas, c"
   ]
  },
  {
   "cell_type": "code",
   "execution_count": 19,
   "metadata": {},
   "outputs": [
    {
     "name": "stdout",
     "output_type": "stream",
     "text": [
      "[0.5331035643930517, 0.3478984383414458, 0.06723797492664782, 0.05176002233885484]\n"
     ]
    }
   ],
   "source": [
    "gammas, di_gammas, c= gamma_func(A, B, pi, obs)\n",
    "print(gammas[T-1])"
   ]
  },
  {
   "cell_type": "code",
   "execution_count": 16,
   "metadata": {},
   "outputs": [],
   "source": [
    "def baum_welch(A, B, pi, obs):\n",
    "    # given a starting guess\n",
    "    N = len(A)\n",
    "    K = len(B[0])\n",
    "    T = len(obs)\n",
    "    # Compute di-gamma and gamma functions\n",
    "    gammas,di_gammas, c = gamma_func(A, B, pi, obs)\n",
    "    # re-estimate lambda\n",
    "    for i in range(N):\n",
    "        for j in range(N):\n",
    "            numr = 0\n",
    "            dem = 0\n",
    "            for t in range(T-1):\n",
    "                numr += di_gammas[t][i][j]\n",
    "                dem += gammas[t][i]\n",
    "            A[i][j] = numr / dem\n",
    "        for k in range(K):\n",
    "            numr = 0\n",
    "            dem = 0\n",
    "            for t in range(T):\n",
    "                numr += (obs[t] == k) * gammas[t][i]\n",
    "                dem += gammas[t][i]\n",
    "            B[i][k] = numr / dem\n",
    "        pi[i] = gammas[0][i]\n",
    "    return A, B, pi, c"
   ]
  },
  {
   "cell_type": "code",
   "execution_count": 17,
   "metadata": {},
   "outputs": [],
   "source": [
    "def learning(A, B, pi, obs):\n",
    "    N = len(A)\n",
    "    T = len(obs)\n",
    "    maxIters = 1000\n",
    "    loss = 1e-3\n",
    "    oldLogProb = 0\n",
    "    for iters in range(maxIters):\n",
    "        A, B, pi, c = baum_welch(A, B, pi, obs)\n",
    "        # Compute log P(O|lambda)\n",
    "        logProb = -sum(log(ct) for ct in c)\n",
    "        if iters != 0 and (logProb <= oldLogProb or abs(logProb - oldLogProb) <= loss):\n",
    "        # if logProb <= oldLogProb or abs(logProb - oldLogProb) <= loss:\n",
    "            break\n",
    "        oldLogProb = logProb\n",
    "    return A, B"
   ]
  },
  {
   "cell_type": "code",
   "execution_count": 18,
   "metadata": {},
   "outputs": [
    {
     "name": "stdout",
     "output_type": "stream",
     "text": [
      "[[0.7607367830329481, 0.9999221551466781, 0.2551860381549284, 0.17277815552981357], [0.053800755696747735, 0.2828656049485824, 0.03609448629855387, 0.024438401146672815], [0.08764205267339552, 0.23039566942267628, 0.11759667047160739, 0.03981043784259935], [0.10377785445485417, 0.27281387780221106, 0.06962371247771523, 0.0942798964239097]]\n",
      "[[0.4500848081056146, 0.1568244272679548, 0.1689192583220022, 0.2241715063044277], [0.1894307560526987, 0.39628133132835514, 0.2184186934539254, 0.19586921916502076], [0.1523363162013573, 0.15482168573381982, 0.4736303478636909, 0.21921165020113195], [0.1733741504686374, 0.12902023466861307, 0.19603981753657504, 0.5015657973261737]]\n"
     ]
    }
   ],
   "source": [
    "A, B = learning(A, B, pi, obs)\n",
    "print(A)\n",
    "print(B)"
   ]
  },
  {
   "cell_type": "code",
   "execution_count": null,
   "metadata": {},
   "outputs": [],
   "source": []
  }
 ],
 "metadata": {
  "kernelspec": {
   "display_name": "Python 3",
   "language": "python",
   "name": "python3"
  },
  "language_info": {
   "codemirror_mode": {
    "name": "ipython",
    "version": 3
   },
   "file_extension": ".py",
   "mimetype": "text/x-python",
   "name": "python",
   "nbconvert_exporter": "python",
   "pygments_lexer": "ipython3",
   "version": "3.8.5"
  }
 },
 "nbformat": 4,
 "nbformat_minor": 4
}
