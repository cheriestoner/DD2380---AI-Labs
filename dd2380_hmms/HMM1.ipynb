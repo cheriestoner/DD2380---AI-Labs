{
 "cells": [
  {
   "cell_type": "code",
   "execution_count": 1,
   "metadata": {},
   "outputs": [],
   "source": [
    "def zero_matrix(nrow, ncol):\n",
    "    M = []\n",
    "    while len(M) < nrow:\n",
    "        M.append([]) # create a new row\n",
    "        while len(M[-1]) < ncol:\n",
    "            M[-1].append(0.0)\n",
    "    return M"
   ]
  },
  {
   "cell_type": "code",
   "execution_count": 2,
   "metadata": {},
   "outputs": [],
   "source": [
    "# HMM1 - Evaluation"
   ]
  },
  {
   "cell_type": "code",
   "execution_count": 3,
   "metadata": {},
   "outputs": [
    {
     "name": "stdout",
     "output_type": "stream",
     "text": [
      "[4.0, 4.0, 0.0, 0.8, 0.1, 0.1, 0.1, 0.0, 0.8, 0.1, 0.1, 0.1, 0.0, 0.8, 0.8, 0.1, 0.1, 0.0]\n",
      "[4.0, 4.0, 0.9, 0.1, 0.0, 0.0, 0.0, 0.9, 0.1, 0.0, 0.0, 0.0, 0.9, 0.1, 0.1, 0.0, 0.0, 0.9]\n",
      "[1.0, 4.0, 1.0, 0.0, 0.0, 0.0]\n",
      "[8, 0, 1, 2, 3, 0, 1, 2, 3]\n"
     ]
    }
   ],
   "source": [
    "'''\n",
    "use sys in Kattis\n",
    "'''\n",
    "with open('hmm2_01.in') as in1:\n",
    "    A_list = list(map(float, in1.readline().split()))\n",
    "    B_list = list(map(float, in1.readline().split()))\n",
    "    pi_list = list(map(float, in1.readline().split()))\n",
    "    obs_list = list(map(int, in1.readline().split()))\n",
    "    print(A_list)\n",
    "    print(B_list)\n",
    "    print(pi_list)\n",
    "    print(obs_list)"
   ]
  },
  {
   "cell_type": "code",
   "execution_count": 4,
   "metadata": {},
   "outputs": [
    {
     "name": "stdout",
     "output_type": "stream",
     "text": [
      "0.090276 \n",
      "\n"
     ]
    }
   ],
   "source": [
    "with open('hmm2_01.ans') as ans1:\n",
    "    ans = ans1.readline()\n",
    "print(ans)"
   ]
  },
  {
   "cell_type": "code",
   "execution_count": 5,
   "metadata": {},
   "outputs": [
    {
     "name": "stdout",
     "output_type": "stream",
     "text": [
      "8\n"
     ]
    }
   ],
   "source": [
    "N = int(A_list[0])\n",
    "K = int(B_list[1]) # namely M\n",
    "T = obs_list[0]\n",
    "print(T)"
   ]
  },
  {
   "cell_type": "code",
   "execution_count": 6,
   "metadata": {},
   "outputs": [
    {
     "name": "stdout",
     "output_type": "stream",
     "text": [
      "[0, 1, 2, 3, 0, 1, 2, 3] <class 'int'>\n",
      "[[1.0, 0.0, 0.0, 0.0]]\n"
     ]
    }
   ],
   "source": [
    "A = zero_matrix(N, N)\n",
    "B = zero_matrix(N, K)\n",
    "pi = [pi_list[2: N+2]]\n",
    "obs = obs_list[1:]\n",
    "print(obs, type(obs[0]))\n",
    "print(pi)"
   ]
  },
  {
   "cell_type": "code",
   "execution_count": 7,
   "metadata": {},
   "outputs": [],
   "source": [
    "for i in range(N):\n",
    "    for j in range(N):\n",
    "        A[i][j] = A_list[2 + N*i + j]\n",
    "    for j in range(K):\n",
    "        B[i][j] = B_list[2 + K*i + j]"
   ]
  },
  {
   "cell_type": "code",
   "execution_count": 8,
   "metadata": {},
   "outputs": [
    {
     "name": "stdout",
     "output_type": "stream",
     "text": [
      "[[0.9, 0.1, 0.0, 0.0], [0.0, 0.9, 0.1, 0.0], [0.0, 0.0, 0.9, 0.1], [0.1, 0.0, 0.0, 0.9]]\n",
      "[[0.0, 0.8, 0.1, 0.1], [0.1, 0.0, 0.8, 0.1], [0.1, 0.1, 0.0, 0.8], [0.8, 0.1, 0.1, 0.0]]\n"
     ]
    }
   ],
   "source": [
    "print(B)\n",
    "print(A)"
   ]
  },
  {
   "cell_type": "code",
   "execution_count": 20,
   "metadata": {},
   "outputs": [],
   "source": [
    "# 先用循环实现一遍\n",
    "def alpha_pass(A, B, pi, obs):\n",
    "    alphas = zero_matrix(len(obs), N)\n",
    "    for t in range(len(obs)):\n",
    "        for i in range(len(A)):\n",
    "            if t==0:\n",
    "                alphas[t][i] = pi[0][i] * B[i][obs[t]]\n",
    "            else:\n",
    "                alphas[t][i] = B[i][obs[t]] * sum(A[j][i] * alphas[t-1][j] for j in range(len(A)))\n",
    "    return alphas\n",
    "# alpha-pass"
   ]
  },
  {
   "cell_type": "code",
   "execution_count": 21,
   "metadata": {},
   "outputs": [],
   "source": [
    "alphas = alpha_pass(A, B, pi, obs)"
   ]
  },
  {
   "cell_type": "code",
   "execution_count": 22,
   "metadata": {},
   "outputs": [
    {
     "name": "stdout",
     "output_type": "stream",
     "text": [
      "0.09027551703859205\n"
     ]
    }
   ],
   "source": [
    "P_obs = 0\n",
    "for i in range(N):\n",
    "    P_obs += alphas[T-1][i]\n",
    "print(P_obs)"
   ]
  },
  {
   "cell_type": "code",
   "execution_count": null,
   "metadata": {},
   "outputs": [],
   "source": []
  }
 ],
 "metadata": {
  "kernelspec": {
   "display_name": "Python 3",
   "language": "python",
   "name": "python3"
  },
  "language_info": {
   "codemirror_mode": {
    "name": "ipython",
    "version": 3
   },
   "file_extension": ".py",
   "mimetype": "text/x-python",
   "name": "python",
   "nbconvert_exporter": "python",
   "pygments_lexer": "ipython3",
   "version": "3.7.7"
  }
 },
 "nbformat": 4,
 "nbformat_minor": 4
}
