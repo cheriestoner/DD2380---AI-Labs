{
 "cells": [
  {
   "cell_type": "code",
   "execution_count": 1,
   "metadata": {},
   "outputs": [],
   "source": [
    "# HMM3 - Estimating\n",
    "from math import log, inf"
   ]
  },
  {
   "cell_type": "code",
   "execution_count": 2,
   "metadata": {},
   "outputs": [],
   "source": [
    "def zero_matrix(nrow, ncol):\n",
    "    M = []\n",
    "    while len(M) < nrow:\n",
    "        M.append([]) # create a new row\n",
    "        while len(M[-1]) < ncol:\n",
    "            M[-1].append(0.0)\n",
    "    return M"
   ]
  },
  {
   "cell_type": "code",
   "execution_count": 3,
   "metadata": {},
   "outputs": [],
   "source": [
    "def zero_array_3d(time, row, col):\n",
    "    M = zero_matrix(row, col)\n",
    "    M_3d = [M]\n",
    "    while len(M_3d) < time:\n",
    "        M_3d.append(M)\n",
    "    return M_3d"
   ]
  },
  {
   "cell_type": "code",
   "execution_count": 4,
   "metadata": {},
   "outputs": [],
   "source": [
    "def repr_mat(A):\n",
    "    return '{} {} {}'.format(len(A), len(A[0]), ' '.join(' '.join(str(v) for v in l) for l in A))"
   ]
  },
  {
   "cell_type": "code",
   "execution_count": 5,
   "metadata": {},
   "outputs": [],
   "source": [
    "def nearly_uniform_vec(n):\n",
    "    from random import gauss\n",
    "    v = [1.0 + gauss(0, 0.1) for _ in range(n)]\n",
    "    sum_v = sum(v)\n",
    "    return [i / sum_v for i in v]    # normalize\n",
    "\n",
    "def nearly_uniform_mat(m, n):\n",
    "    return [nearly_uniform_vec(n) for _ in range(m)]"
   ]
  },
  {
   "cell_type": "code",
   "execution_count": 7,
   "metadata": {},
   "outputs": [],
   "source": [
    "with open('hmm_c_N1000.in') as inp:\n",
    "    obs_list = list(map(int, inp.readline().split()))\n",
    "with open('hmm_c_N10000.in') as inp2:\n",
    "    obs_list_2 = list(map(int, inp2.readline().split()))"
   ]
  },
  {
   "cell_type": "code",
   "execution_count": 8,
   "metadata": {},
   "outputs": [],
   "source": [
    "T = obs_list[0]\n",
    "T_2 = obs_list_2[0]\n",
    "obs = obs_list[1:]\n",
    "obs_2 = obs_list_2[1:]"
   ]
  },
  {
   "cell_type": "code",
   "execution_count": 6,
   "metadata": {},
   "outputs": [],
   "source": [
    "# initial lambda\n",
    "N = 3\n",
    "K = 4\n",
    "A = nearly_uniform_mat(N, N)\n",
    "B = nearly_uniform_mat(N, K)\n",
    "pi = nearly_uniform_vec(N)"
   ]
  },
  {
   "cell_type": "code",
   "execution_count": 12,
   "metadata": {},
   "outputs": [],
   "source": [
    "# alpha-pass: ouput alphas as a T * N matrix, and coefficients c_t\n",
    "def alpha_pass_scaled(A, B, pi, obs):\n",
    "    # by log\n",
    "    T = len(obs)\n",
    "    N = len(A)\n",
    "    alphas = zero_matrix(T, N)\n",
    "    c = [0.0] * T\n",
    "    alpha_tilde = [pi[i] * B[i][obs[0]] for i in range(N)]\n",
    "    c[0] = 1.0 / sum(alpha_tilde)\n",
    "    alphas[0] = [c[0] * alpha for alpha in alpha_tilde]\n",
    "    for t in range(1, T):\n",
    "        alpha_tilde = [sum(alphas[t-1][j] * A[j][i] * B[i][obs[t]] for j in range(N)) for i in range(N)]\n",
    "        c[t] = 1.0 / sum(alpha_tilde)\n",
    "        alphas[t] = [c[t] * alpha for alpha in alpha_tilde]\n",
    "    return alphas, c"
   ]
  },
  {
   "cell_type": "code",
   "execution_count": 13,
   "metadata": {},
   "outputs": [],
   "source": [
    "alphas, c = alpha_pass_scaled(A, B, pi, obs)"
   ]
  },
  {
   "cell_type": "code",
   "execution_count": 14,
   "metadata": {},
   "outputs": [],
   "source": [
    "# beta-pass\n",
    "def beta_pass_scaled(A, B, obs, c):\n",
    "    T = len(obs)\n",
    "    N = len(A)\n",
    "    betas = zero_matrix(T, N)\n",
    "    betas[T-1] = [c[T-1]] * N\n",
    "    for t in range(T-2, -1, -1):\n",
    "        betas[t] = [sum(betas[t+1][j] * B[j][obs[t+1]] * A[i][j] for j in range(N)) * c[t] for i in range(N) ]\n",
    "    return betas"
   ]
  },
  {
   "cell_type": "code",
   "execution_count": 19,
   "metadata": {},
   "outputs": [
    {
     "name": "stdout",
     "output_type": "stream",
     "text": [
      "[3.920060125712225, 3.920060125712225, 3.920060125712225]\n"
     ]
    }
   ],
   "source": [
    "betas = beta_pass_scaled(A, B, obs, c)\n",
    "print(betas[-1])"
   ]
  },
  {
   "cell_type": "code",
   "execution_count": 20,
   "metadata": {},
   "outputs": [],
   "source": [
    "def learning_iter(A, B, pi, obs):\n",
    "    N = len(A)\n",
    "    K = len(B[0])\n",
    "    T = len(obs)\n",
    "    # calculate alpha, beta, di_gamma, gamma\n",
    "    alphas, c = alpha_pass_scaled(A, B, pi, obs)\n",
    "    betas = beta_pass_scaled(A, B, obs, c)\n",
    "    # di_gamma and gamma are computed at each time\n",
    "    # sum of di_gamma and gamma over time 0:T-1\n",
    "    sum_t_di_gamma = zero_matrix(N, N)\n",
    "    sum_t_gamma = [0.0] * N\n",
    "    sum_O_k_count_times_gamma = zero_matrix(N, K) # numerator of b_j(k)\n",
    "    new_pi = None\n",
    "    for t in range(T-1):\n",
    "        di_gamma_t = zero_matrix(N, N)\n",
    "        gamma_t = [0.0] * N\n",
    "        for i in range(N):\n",
    "            for j in range(N):\n",
    "                di_gamma_t[i][j] = betas[t+1][j] * A[i][j] * B[j][obs[t+1]] * alphas[t][i]\n",
    "                gamma_t[i] += di_gamma_t[i][j]\n",
    "                sum_t_di_gamma[i][j] += di_gamma_t[i][j]\n",
    "            sum_t_gamma[i] += gamma_t[i]\n",
    "            sum_O_k_count_times_gamma[i][obs[t]] += gamma_t[i]\n",
    "        if t == 0:\n",
    "            new_pi = gamma_t\n",
    "\n",
    "    new_A = zero_matrix(N, N)\n",
    "    new_B = zero_matrix(N, K)\n",
    "    for i in range(N):\n",
    "        for j in range(N):\n",
    "            new_A[i][j] = sum_t_di_gamma[i][j] / sum_t_gamma[i]\n",
    "        for k in range(K):\n",
    "            new_B[i][k] = sum_O_k_count_times_gamma[i][k] / sum_t_gamma[i]\n",
    "    return new_A, new_B, new_pi, c"
   ]
  },
  {
   "cell_type": "code",
   "execution_count": 21,
   "metadata": {},
   "outputs": [],
   "source": [
    "def learning(A, B, pi, obs, MAX_ITER, EVL):\n",
    "        old_log_prob = -inf\n",
    "        for iter in range(MAX_ITER):\n",
    "            A, B, pi, c = learning_iter(A, B, pi, obs)\n",
    "            log_prob = -sum(log(ci) for ci in c)\n",
    "            if log_prob <= old_log_prob or abs(log_prob - old_log_prob) <= EVL:\n",
    "                break\n",
    "            elif iter==MAX_ITER:\n",
    "                print('not converge')\n",
    "            old_log_prob = log_prob\n",
    "        return A, B, pi, log_prob"
   ]
  },
  {
   "cell_type": "code",
   "execution_count": 35,
   "metadata": {},
   "outputs": [],
   "source": [
    "org_A = [[0.7, 0.05, 0.25], [0.1, 0.8, 0.1], [0.2, 0.3, 0.5]]\n",
    "org_B = [[0.7, 0.2, 0.1, 0], [0.1, 0.4, 0.3, 0.2], [0, 0.1, 0.2, 0.7]]\n",
    "org_pi = [0.3, 0.2, 0.5]"
   ]
  },
  {
   "cell_type": "code",
   "execution_count": 37,
   "metadata": {},
   "outputs": [],
   "source": [
    "int_A = [[0.54, 0.26, 0.20], [0.19, 0.53, 0.28], [0.22, 0.18, 0.6]]\n",
    "int_B = [[0.5, 0.2, 0.11, 0.19], [0.22, 0.28, 0.23, 0.27], [0.19, 0.21, 0.15, 0.45]]\n",
    "int_pi = [0.3, 0.2, 0.5]"
   ]
  },
  {
   "cell_type": "code",
   "execution_count": 31,
   "metadata": {},
   "outputs": [],
   "source": [
    "def main(A, B, pi, obs):\n",
    "    MAX_ITER = 500\n",
    "    EVL = 1e-4\n",
    "    new_A, new_B, new_pi = A, B, pi\n",
    "    new_A, new_B, new_pi, log_prob = learning(new_A, new_B, new_pi, obs, MAX_ITER, EVL)\n",
    "    \n",
    "    # model distance\n",
    "    org_alphas, org_c = alpha_pass_scaled(org_A, org_B, org_pi, obs)\n",
    "    org_log_prob = -sum(log(ci) for ci in org_c)\n",
    "    dist = (org_log_prob - log_prob) / T\n",
    "    \n",
    "    print(\"======Generating model======\")\n",
    "    print(\"A = {}, B = {}, pi = {}\".format(org_A, org_B, org_pi))\n",
    "    print(\"H(lambda0, lambda0) = {}\".format(org_log_prob))\n",
    "    print(\"======Estimated lambda======\")\n",
    "    print(\"A = {}, B = {}, pi = {}\".format(new_A, new_B, new_pi))\n",
    "    print(\"H(lambda0, lambda) = {}\".format(log_prob))\n",
    "    print(\"-------------------------\")\n",
    "    print(\"Model distance: {}\".format(dist))\n",
    "    return"
   ]
  },
  {
   "cell_type": "code",
   "execution_count": 34,
   "metadata": {},
   "outputs": [
    {
     "name": "stdout",
     "output_type": "stream",
     "text": [
      "======Generating model======\n",
      "A = [[0.7, 0.05, 0.25], [0.1, 0.8, 0.1], [0.2, 0.3, 0.5]], B = [[0.7, 0.2, 0.1, 0], [0.1, 0.4, 0.3, 0.2], [0, 0.1, 0.2, 0.7]], pi = [0.3, 0.2, 0.5]\n",
      "H(lambda0, lambda0) = -1344.0438056797307\n",
      "======Estimate lambda======\n",
      "A = [[0.6934645553833985, 0.29968619926667395, 0.006849245349926323], [0.19570412267353948, 0.5094365083225137, 0.29485936900394605], [0.09685210613735054, 0.09774787595698223, 0.8054000179056667]], B = [[0.6918062900532501, 0.22913229629127063, 0.07332815118140806, 0.005733262474071234], [1.2254340434291116e-08, 0.00443767602642519, 0.3544652330696823, 0.6410970786495517], [0.07026681307370693, 0.41950959581802605, 0.2797857064348974, 0.23043788467336992]], pi = [0.999999999999989, 0.0, 0.0]\n",
      "H(lambda0, lambda) = -1337.0338141286236\n",
      "-------------------------\n",
      "Model distance: -0.007009991551107078\n"
     ]
    }
   ],
   "source": [
    "main(A, B, pi, obs) # T = 1000"
   ]
  },
  {
   "cell_type": "code",
   "execution_count": 32,
   "metadata": {},
   "outputs": [
    {
     "name": "stdout",
     "output_type": "stream",
     "text": [
      "======Generating model======\n",
      "A = [[0.7, 0.05, 0.25], [0.1, 0.8, 0.1], [0.2, 0.3, 0.5]], B = [[0.7, 0.2, 0.1, 0], [0.1, 0.4, 0.3, 0.2], [0, 0.1, 0.2, 0.7]], pi = [0.3, 0.2, 0.5]\n",
      "H(lambda0, lambda0) = -13417.495871871548\n",
      "======Estimate lambda======\n",
      "A = [[0.6960102101186049, 0.2647084662555928, 0.03928132362580355], [0.15127096431539963, 0.5992871824902127, 0.2494418531943895], [0.11836980663681866, 0.1445356145824461, 0.7370945787807319]], B = [[0.7078770759918196, 0.186315636923158, 0.1036921230124376, 0.0021151640725861395], [0.035344127654650906, 0.1768540779314594, 0.18949597424381937, 0.5983058201700705], [0.09893727902736621, 0.4263548324222325, 0.3148159732052887, 0.15989191534510805]], pi = [0.0, 2.077578793394285e-99, 1.0000000000000184]\n",
      "H(lambda0, lambda) = -13410.856597148237\n",
      "-------------------------\n",
      "Model distance: -0.006639274723311246\n"
     ]
    }
   ],
   "source": [
    "main(A, B, pi, obs_2) # T = 10000"
   ]
  },
  {
   "cell_type": "code",
   "execution_count": 38,
   "metadata": {},
   "outputs": [
    {
     "name": "stdout",
     "output_type": "stream",
     "text": [
      "======Generating model======\n",
      "A = [[0.7, 0.05, 0.25], [0.1, 0.8, 0.1], [0.2, 0.3, 0.5]], B = [[0.7, 0.2, 0.1, 0], [0.1, 0.4, 0.3, 0.2], [0, 0.1, 0.2, 0.7]], pi = [0.3, 0.2, 0.5]\n",
      "H(lambda0, lambda0) = -1344.0438056797307\n",
      "======Estimate lambda======\n",
      "A = [[0.6940493049201448, 0.005105856854637064, 0.300844838225217], [0.09631714360922294, 0.8066185636233661, 0.09706429276741194], [0.19534580287967998, 0.2939920829607002, 0.5106621141596213]], B = [[0.6915068490522644, 0.22942397049617688, 0.07317134522228622, 0.0058978352292711304], [0.07088898962035807, 0.4190495629837455, 0.27937354885146004, 0.23068789854443694], [1.2511440857897364e-08, 0.005603130691221707, 0.3549595013724457, 0.6394373554248929]], pi = [0.9999999999999998, 0.0, 0.0]\n",
      "H(lambda0, lambda) = -1337.0382373519617\n",
      "-------------------------\n",
      "Model distance: -0.007005568327768969\n"
     ]
    }
   ],
   "source": [
    "# another initialization\n",
    "main(int_A, int_B, int_pi, obs)"
   ]
  },
  {
   "cell_type": "code",
   "execution_count": 39,
   "metadata": {},
   "outputs": [
    {
     "name": "stdout",
     "output_type": "stream",
     "text": [
      "======Generating model======\n",
      "A = [[0.7, 0.05, 0.25], [0.1, 0.8, 0.1], [0.2, 0.3, 0.5]], B = [[0.7, 0.2, 0.1, 0], [0.1, 0.4, 0.3, 0.2], [0, 0.1, 0.2, 0.7]], pi = [0.3, 0.2, 0.5]\n",
      "H(lambda0, lambda0) = -13417.495871871548\n",
      "======Estimate lambda======\n",
      "A = [[0.6961581646778351, 0.04054149379002415, 0.2633003415321438], [0.11851662902284422, 0.7387735701703239, 0.1427098008068315], [0.1512238110297442, 0.2508390572603561, 0.597937131709902]], B = [[0.7078295267454331, 0.18621006002014312, 0.10364637985790494, 0.002314033376519488], [0.0988423557183725, 0.4253661270944716, 0.31430840226849593, 0.16148311491866185], [0.034990366051022063, 0.17588480200355366, 0.1890080202333833, 0.6001168117120435]], pi = [2.169996600537277e-283, 1.0000000000000049, 3.0898898260336894e-87]\n",
      "H(lambda0, lambda) = -13410.853678060363\n",
      "-------------------------\n",
      "Model distance: -0.00664219381118528\n"
     ]
    }
   ],
   "source": [
    "main(int_A, int_B, int_pi, obs_2)"
   ]
  },
  {
   "cell_type": "code",
   "execution_count": null,
   "metadata": {},
   "outputs": [],
   "source": []
  }
 ],
 "metadata": {
  "kernelspec": {
   "display_name": "Python 3",
   "language": "python",
   "name": "python3"
  },
  "language_info": {
   "codemirror_mode": {
    "name": "ipython",
    "version": 3
   },
   "file_extension": ".py",
   "mimetype": "text/x-python",
   "name": "python",
   "nbconvert_exporter": "python",
   "pygments_lexer": "ipython3",
   "version": "3.7.7"
  }
 },
 "nbformat": 4,
 "nbformat_minor": 4
}
