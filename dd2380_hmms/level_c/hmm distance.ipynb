{
 "cells": [
  {
   "cell_type": "code",
   "execution_count": 6,
   "metadata": {},
   "outputs": [],
   "source": [
    "# hmm distance measurement\n",
    "from math import log\n",
    "\n",
    "def KL_distance(A_1, B_1, pi_1, A_2, B_2, pi_2):\n",
    "    # not symmetric\n",
    "    N = len(A_1)\n",
    "    K = len(B_1[0])\n",
    "    d_add1 = sum(A_1[i][j] * pi_1[i] * (log(A_2[i][j]) - log(A_1[i][j])) for i in range(N) for j in range(N))\n",
    "    d_add2 = sum(B_1[i][k] * pi_1[i] * (log(B_2[i][k]) - log(B_1[i][k])) for i in range(N) for k in range(K))\n",
    "    return d_add1 + d_add2"
   ]
  },
  {
   "cell_type": "code",
   "execution_count": 9,
   "metadata": {},
   "outputs": [],
   "source": [
    "A_1 = [[0.701,0.005,0.294],[0.097,0.791,0.112],[0.187,0.293,0.519]]\n",
    "B_1 = [[0.686,0.221,0.078,0.014],[0.072,0.430,0.280,0.217],[0.0001,0.018,0.348,0.634]]\n",
    "pi_1 = [1.0, 0.0, 0.0]\n",
    "A_2 = [[0.697,0.043,0.260],[0.120,0.734,0.145],[0.148,0.252,0.600]]\n",
    "B_2 = [[0.707,0.186,0.103,0.004],[0.097,0.427,0.315,0.161],[0.038,0.175,0.188,0.598]]\n",
    "pi_2 = [0.0, 1.0, 0.0]"
   ]
  },
  {
   "cell_type": "code",
   "execution_count": 10,
   "metadata": {},
   "outputs": [
    {
     "data": {
      "text/plain": [
       "-0.04265676384935646"
      ]
     },
     "execution_count": 10,
     "metadata": {},
     "output_type": "execute_result"
    }
   ],
   "source": [
    "KL_distance(A_1, B_1, pi_1, A_2, B_2, pi_2)"
   ]
  },
  {
   "cell_type": "code",
   "execution_count": null,
   "metadata": {},
   "outputs": [],
   "source": []
  }
 ],
 "metadata": {
  "kernelspec": {
   "display_name": "Python 3",
   "language": "python",
   "name": "python3"
  },
  "language_info": {
   "codemirror_mode": {
    "name": "ipython",
    "version": 3
   },
   "file_extension": ".py",
   "mimetype": "text/x-python",
   "name": "python",
   "nbconvert_exporter": "python",
   "pygments_lexer": "ipython3",
   "version": "3.6.8"
  }
 },
 "nbformat": 4,
 "nbformat_minor": 4
}
